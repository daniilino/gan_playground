{
 "cells": [
  {
   "cell_type": "code",
   "execution_count": 1,
   "metadata": {},
   "outputs": [
    {
     "name": "stderr",
     "output_type": "stream",
     "text": [
      "c:\\Users\\Admin\\Anaconda3\\envs\\vcr_logo\\lib\\site-packages\\torchaudio\\backend\\utils.py:74: UserWarning: No audio backend is available.\n",
      "  warnings.warn(\"No audio backend is available.\")\n"
     ]
    }
   ],
   "source": [
    "import torch\n",
    "import torch.nn as nn\n",
    "from model_arch import TwoPicsGenerator, LitTwoPicsGenerator\n",
    "from dataset import LitTwoImageDataModule\n",
    "\n",
    "import os\n",
    "\n",
    "import pytorch_lightning as pl\n",
    "from pytorch_lightning.loggers import TensorBoardLogger\n",
    "\n",
    "from demo_utils import interpolate_two_points\n",
    "\n",
    "%matplotlib inline\n",
    "%load_ext autoreload\n",
    "%autoreload 2"
   ]
  },
  {
   "cell_type": "code",
   "execution_count": 2,
   "metadata": {},
   "outputs": [],
   "source": [
    "HEIGHT = 100\n",
    "WIDTH = 200\n",
    "LOG_FOLDER_NAME = \"lightning_logs\"\n",
    "\n",
    "datamodule = LitTwoImageDataModule(\"pic_1.png\", \"pic_2.png\")\n",
    "datamodule.setup(HEIGHT, WIDTH, data_mean=0.3259, data_std=0.4484, num_workers=4)"
   ]
  },
  {
   "cell_type": "code",
   "execution_count": 3,
   "metadata": {},
   "outputs": [],
   "source": [
    "emb_size = 1\n",
    "img_hw = (HEIGHT, WIDTH)\n",
    "\n",
    "model = TwoPicsGenerator(emb_size, img_hw=img_hw)"
   ]
  },
  {
   "cell_type": "code",
   "execution_count": 4,
   "metadata": {},
   "outputs": [],
   "source": [
    "loss_fx = nn.MSELoss()\n",
    "pl_model = LitTwoPicsGenerator(model, loss_fx)"
   ]
  },
  {
   "cell_type": "code",
   "execution_count": 8,
   "metadata": {},
   "outputs": [
    {
     "name": "stderr",
     "output_type": "stream",
     "text": [
      "GPU available: True (cuda), used: True\n",
      "TPU available: False, using: 0 TPU cores\n",
      "IPU available: False, using: 0 IPUs\n",
      "HPU available: False, using: 0 HPUs\n",
      "LOCAL_RANK: 0 - CUDA_VISIBLE_DEVICES: [0]\n",
      "\n",
      "  | Name    | Type             | Params\n",
      "---------------------------------------------\n",
      "0 | model   | TwoPicsGenerator | 12.6 K\n",
      "1 | loss_fx | MSELoss          | 0     \n",
      "---------------------------------------------\n",
      "12.6 K    Trainable params\n",
      "0         Non-trainable params\n",
      "12.6 K    Total params\n",
      "0.050     Total estimated model params size (MB)\n"
     ]
    },
    {
     "name": "stdout",
     "output_type": "stream",
     "text": [
      "CURRENT VERSION: 3\n"
     ]
    },
    {
     "data": {
      "application/vnd.jupyter.widget-view+json": {
       "model_id": "fe9874f3bb33410a80d9271cc9378689",
       "version_major": 2,
       "version_minor": 0
      },
      "text/plain": [
       "Training: 0it [00:00, ?it/s]"
      ]
     },
     "metadata": {},
     "output_type": "display_data"
    },
    {
     "name": "stderr",
     "output_type": "stream",
     "text": [
      "Epoch 0, global step 2048: 'avg loss' reached 0.40708 (best 0.40708), saving model to 'C:\\\\Users\\\\Admin\\\\Desktop\\\\pic_sampler\\\\lightning_logs\\\\experiment\\\\epoch=0-step=2048-v3.ckpt' as top 3\n",
      "Epoch 1, global step 4096: 'avg loss' reached 0.40798 (best 0.40708), saving model to 'C:\\\\Users\\\\Admin\\\\Desktop\\\\pic_sampler\\\\lightning_logs\\\\experiment\\\\epoch=1-step=4096-v2.ckpt' as top 3\n",
      "Epoch 2, global step 6144: 'avg loss' reached 0.40727 (best 0.40708), saving model to 'C:\\\\Users\\\\Admin\\\\Desktop\\\\pic_sampler\\\\lightning_logs\\\\experiment\\\\epoch=2-step=6144.ckpt' as top 3\n",
      "Epoch 3, global step 8192: 'avg loss' reached 0.40520 (best 0.40520), saving model to 'C:\\\\Users\\\\Admin\\\\Desktop\\\\pic_sampler\\\\lightning_logs\\\\experiment\\\\epoch=3-step=8192.ckpt' as top 3\n"
     ]
    }
   ],
   "source": [
    "checkpoint_callback = pl.callbacks.ModelCheckpoint(\n",
    "    save_top_k=3,\n",
    "    verbose=True,\n",
    "    monitor='avg loss',\n",
    "    mode='min',\n",
    "    dirpath=os.path.join(LOG_FOLDER_NAME, pl_model.experiment_name)\n",
    ")\n",
    "\n",
    "logger = TensorBoardLogger(LOG_FOLDER_NAME, name=pl_model.experiment_name)\n",
    "pl_model.enable_scheduler = True\n",
    "pl_model.lr = 1e-2\n",
    "pl_model.l2reg = 1e-2\n",
    "\n",
    "# CKPT_NAME = \"epoch=68-step=1056390.ckpt\"\n",
    "# CKPT_PATH = os.path.join(LOG_FOLDER_NAME, pl_model.experiment_name, CKPT_NAME)\n",
    "\n",
    "trainer = pl.Trainer(max_epochs=68, callbacks=[checkpoint_callback], logger=logger)\n",
    "trainer.fit(pl_model, train_dataloaders=datamodule.dataloader)#, ckpt_path = CKPT_PATH)"
   ]
  },
  {
   "cell_type": "code",
   "execution_count": 19,
   "metadata": {},
   "outputs": [],
   "source": [
    "torch.cuda.empty_cache()\n",
    "\n",
    "z_1 = torch.tensor((-0.5,))\n",
    "z_2 = torch.tensor((2.5,))\n",
    "\n",
    "interpolate_two_points(z_1, z_2, 300, pl_model.model, export_imgs_to=\"\")"
   ]
  },
  {
   "cell_type": "code",
   "execution_count": null,
   "metadata": {},
   "outputs": [],
   "source": []
  }
 ],
 "metadata": {
  "kernelspec": {
   "display_name": "vcr_logo",
   "language": "python",
   "name": "python3"
  },
  "language_info": {
   "codemirror_mode": {
    "name": "ipython",
    "version": 3
   },
   "file_extension": ".py",
   "mimetype": "text/x-python",
   "name": "python",
   "nbconvert_exporter": "python",
   "pygments_lexer": "ipython3",
   "version": "3.9.13"
  },
  "orig_nbformat": 4
 },
 "nbformat": 4,
 "nbformat_minor": 2
}
